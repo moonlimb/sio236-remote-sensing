{
 "cells": [
  {
   "cell_type": "markdown",
   "metadata": {},
   "source": [
    "# Lab 7: Radar Altimetry Waveform\n",
    "\n",
    "\n",
    "Instructions:\n",
    "\n",
    "**Exercise 1** (On `waveforms.data`):\n",
    "\n",
    "The first column of the file is time in nanoseconds since the altimeter started recording (5.3 × 10−3\n",
    "seconds). The second column is the recorded power.\n",
    "\n",
    "1) Load the data\n",
    "\n",
    "- Load data **<span style=\"color:black; background-color: yellow\">DONE</span>**.\n",
    "- Plot these waveforms as points. **<span style=\"color:black; background-color: yellow\">DONE</span>**\n",
    "\n",
    "\n",
    "2) Generate a **model waveform** from the function above and plot it over the waveform data. \n",
    "\n",
    "- Estimate the three unknown parameters  A, t0 , and σ\n",
    "\n",
    "- Questions answered inline along with the code :)\n",
    " \n",
    "**Reference: **\n",
    "\n",
    "- lecture notes\n",
    "- additional notes on the interaction between radar and the ocean \n",
    " http://topex.ucsd.edu/rs/altimetry.pdf.\n",
    "\n",
    "\n",
    "Status:\n",
    "**<span style=\"color:black; background-color: yellow\">DONE</span>**.\n",
    "**<span style=\"color:white; background-color: green\">In Progress</span>**.\n",
    "\n",
    "\n"
   ]
  },
  {
   "cell_type": "markdown",
   "metadata": {},
   "source": [
    "### A simple model for the expected power as a function of time\n",
    "\n",
    "Notes: The return power is an error function, which is an intergral of a Gaussian function."
   ]
  },
  {
   "cell_type": "markdown",
   "metadata": {},
   "source": [
    "\\begin{equation*}\n",
    "M(t,  t_0,  \\sigma,  A)   =  A  \\Bigl[1 + erf \\Bigl(\\frac{t - t_0}{\\sqrt{2}\n",
    "\\sigma}\\Bigr) \\Bigr]\n",
    "\\end{equation*}"
   ]
  },
  {
   "cell_type": "markdown",
   "metadata": {},
   "source": [
    "$t$ = time since the pulse was transmitted <br />\n",
    "$t_0$ = arriveal time of the half power point<br />\n",
    "$\\sigma$ = rise time parameter<br />\n",
    "$A$ = amplitude of the returned waveform<br />\n"
   ]
  },
  {
   "cell_type": "markdown",
   "metadata": {},
   "source": [
    "### Altitude of the satellite is:"
   ]
  },
  {
   "cell_type": "markdown",
   "metadata": {},
   "source": [
    "\\begin{equation*}\n",
    "r = \\frac{ct_0}{2}\n",
    "\\end{equation*}"
   ]
  },
  {
   "cell_type": "markdown",
   "metadata": {},
   "source": [
    "where $c$ = speed of light."
   ]
  },
  {
   "cell_type": "markdown",
   "metadata": {},
   "source": [
    "# Imports"
   ]
  },
  {
   "cell_type": "code",
   "execution_count": 110,
   "metadata": {
    "collapsed": true
   },
   "outputs": [],
   "source": [
    "import os\n",
    "\n",
    "from collections import OrderedDict\n",
    "\n",
    "import matplotlib.pyplot as plt\n",
    "import numpy as np\n",
    "from matplotlib.ticker import NullFormatter\n",
    "from scipy.special import erf\n",
    "from scipy.io import loadmat\n",
    "\n",
    "from sklearn import metrics\n",
    "#from sklearn.ensemble import RandomForestClassifer\n",
    "from skimage import io"
   ]
  },
  {
   "cell_type": "code",
   "execution_count": 111,
   "metadata": {
    "collapsed": true
   },
   "outputs": [],
   "source": [
    "# os.listdir('./')"
   ]
  },
  {
   "cell_type": "markdown",
   "metadata": {},
   "source": [
    "## 1.1a) Load the data"
   ]
  },
  {
   "cell_type": "code",
   "execution_count": 112,
   "metadata": {
    "collapsed": true
   },
   "outputs": [],
   "source": [
    "data = np.loadtxt('waveforms.dat')"
   ]
  },
  {
   "cell_type": "markdown",
   "metadata": {},
   "source": [
    "## 1.1b) Plot waveforms as points"
   ]
  },
  {
   "cell_type": "markdown",
   "metadata": {},
   "source": [
    "### utility functions for plotting (from previous labs)"
   ]
  },
  {
   "cell_type": "code",
   "execution_count": 113,
   "metadata": {
    "collapsed": true
   },
   "outputs": [],
   "source": [
    "def label_axes(_plt, x_lab, y_lab, title):\n",
    "    _plt.xlabel(x_lab,  fontsize=14)\n",
    "    _plt.ylabel(y_lab, fontsize=14)\n",
    "    _plt.title(title, fontsize=16)\n",
    "    _plt.legend(fontsize=10, loc='best')"
   ]
  },
  {
   "cell_type": "code",
   "execution_count": 115,
   "metadata": {},
   "outputs": [],
   "source": [
    "# this part of the code to plot waveforms is borrowed from\n",
    "# https://github.com/biavillas/sio236/blob/master/labs/lab07/VillasBoas_Bia_lab7.ipynb\n",
    "# the documentation is added\n",
    "\n",
    "# number of given waveforms (from ERS-1 satellite altimeter)\n",
    "num_waveforms = 20\n",
    "\n",
    "rows, cols = data.shape # returns (980, 2)\n",
    "N = rows / num_waveforms #49\n",
    "\n",
    "# create empty masked np array\n",
    "forms = np.ma.empty([num_waveforms, N, cols])\n",
    "# print forms.shape # (20, 49, 2)"
   ]
  },
  {
   "cell_type": "code",
   "execution_count": 116,
   "metadata": {},
   "outputs": [
    {
     "ename": "NameError",
     "evalue": "name 'Nf' is not defined",
     "output_type": "error",
     "traceback": [
      "\u001b[0;31m---------------------------------------------------------------------------\u001b[0m",
      "\u001b[0;31mNameError\u001b[0m                                 Traceback (most recent call last)",
      "\u001b[0;32m<ipython-input-116-959d0aa81365>\u001b[0m in \u001b[0;36m<module>\u001b[0;34m()\u001b[0m\n\u001b[0;32m----> 1\u001b[0;31m \u001b[0;32mfor\u001b[0m \u001b[0mi\u001b[0m \u001b[0;32min\u001b[0m \u001b[0mnp\u001b[0m\u001b[0;34m.\u001b[0m\u001b[0marange\u001b[0m\u001b[0;34m(\u001b[0m\u001b[0;36m0\u001b[0m\u001b[0;34m,\u001b[0m \u001b[0mNf\u001b[0m\u001b[0;34m)\u001b[0m\u001b[0;34m:\u001b[0m\u001b[0;34m\u001b[0m\u001b[0m\n\u001b[0m\u001b[1;32m      2\u001b[0m     \u001b[0mforms\u001b[0m\u001b[0;34m[\u001b[0m\u001b[0mi\u001b[0m\u001b[0;34m,\u001b[0m \u001b[0;34m:\u001b[0m\u001b[0;34m,\u001b[0m \u001b[0;34m:\u001b[0m\u001b[0;34m]\u001b[0m \u001b[0;34m=\u001b[0m \u001b[0mdata\u001b[0m\u001b[0;34m[\u001b[0m\u001b[0mi\u001b[0m\u001b[0;34m*\u001b[0m\u001b[0mN\u001b[0m\u001b[0;34m:\u001b[0m\u001b[0;34m(\u001b[0m\u001b[0mi\u001b[0m\u001b[0;34m+\u001b[0m\u001b[0;36m1\u001b[0m\u001b[0;34m)\u001b[0m\u001b[0;34m*\u001b[0m\u001b[0mN\u001b[0m\u001b[0;34m,\u001b[0m\u001b[0;34m:\u001b[0m\u001b[0;34m]\u001b[0m\u001b[0;34m\u001b[0m\u001b[0m\n\u001b[1;32m      3\u001b[0m \u001b[0;34m\u001b[0m\u001b[0m\n\u001b[1;32m      4\u001b[0m \u001b[0moffset\u001b[0m \u001b[0;34m=\u001b[0m \u001b[0;36m5.3e-3\u001b[0m \u001b[0;31m# when the altimeter started recording\u001b[0m\u001b[0;34m\u001b[0m\u001b[0m\n\u001b[1;32m      5\u001b[0m \u001b[0mscale\u001b[0m \u001b[0;34m=\u001b[0m \u001b[0;36m1e-9\u001b[0m \u001b[0;31m# time is in nanoseconds\u001b[0m\u001b[0;34m\u001b[0m\u001b[0m\n",
      "\u001b[0;31mNameError\u001b[0m: name 'Nf' is not defined"
     ]
    }
   ],
   "source": [
    "for i in np.arange(0, Nf):\n",
    "    forms[i, :, :] = data[i*N:(i+1)*N,:] \n",
    "\n",
    "offset = 5.3e-3 # when the altimeter started recording\n",
    "scale = 1e-9 # time is in nanoseconds\n",
    "\n",
    "t = forms[:, :, 0] \n",
    "amp = forms[:, :, 1]\n",
    "\n",
    "# mean value of the power (amplitude)\n",
    "amp_mean = np.ma.mean(amp, axis=0)\n",
    "\n",
    "# std_amp = np.ma.std(amp, axis=0)\n",
    "# se_amp = std_amp / Nf\n",
    "\n",
    "# average of all times\n",
    "# t.shape -> (20, 49)\n",
    "tmean = np.ma.mean(t, axis=0)"
   ]
  },
  {
   "cell_type": "code",
   "execution_count": null,
   "metadata": {},
   "outputs": [],
   "source": [
    "plt.close()\n",
    "plt.figure(figsize=(18,15))\n",
    "\n",
    "def plot_all_waveforms(_plt, _num_waveforms, point_shape='-k'):\n",
    "    for i in range(_num_waveforms):\n",
    "        _plt.plot(t[i], amp[i], point_shape, label=' Waveform {number}'.format(number=i + 1))\n",
    "\n",
    "# first plot\n",
    "plt.subplot(221)\n",
    "plot_all_waveforms(plt, num_waveforms, point_shape='x')\n",
    "label_axes(plt, 'Time [nanoseconds]', 'Recorded Power', 'Waveforms')\n",
    "plt.grid() # show grid lines\n",
    "\n",
    "# second plot\n",
    "plt.subplot(222)\n",
    "\n",
    "# .- connects the dots\n",
    "# x plots just points as 'x' without connecting\n",
    "\n",
    "plt.plot(tmean, amp_mean, '-o', label='Average waveform') \n",
    "label_axes(plt, 'Time [nanoseconds]', 'Recorded Power', 'Waveforms')\n",
    "plt.grid()\n",
    "\n",
    "# show first two plots\n",
    "plt.show()\n",
    "\n",
    "# a wider version - for readability\n",
    "plt.figure(figsize=(18, 8))\n",
    "\n",
    "plot_all_waveforms(plt, num_waveforms, point_shape='.-')\n",
    "label_axes(plt, 'Time [nanoseconds]', 'Recorded Power', 'Waveforms')\n",
    "plt.grid() # show grid lines\n",
    "plt.show()"
   ]
  },
  {
   "cell_type": "markdown",
   "metadata": {},
   "source": [
    "## 1.2) Generate a model waveform from the given function\n",
    "\n",
    "1) plot it over the data\n"
   ]
  },
  {
   "cell_type": "code",
   "execution_count": null,
   "metadata": {
    "collapsed": true
   },
   "outputs": [],
   "source": [
    "A = amp_mean.max()"
   ]
  },
  {
   "cell_type": "code",
   "execution_count": null,
   "metadata": {
    "collapsed": true
   },
   "outputs": [],
   "source": [
    "t0 = 98\n",
    "sig = 5.6"
   ]
  },
  {
   "cell_type": "code",
   "execution_count": null,
   "metadata": {
    "collapsed": true
   },
   "outputs": [],
   "source": [
    "sig = 5.5\n",
    "brown_model = (A/2.)*(1 + erf((tmean-t0)/(np.sqrt(2)*sig)))"
   ]
  },
  {
   "cell_type": "markdown",
   "metadata": {},
   "source": [
    "### Estimate the three unknown parameters $A$, $t_0$, and $σ$"
   ]
  },
  {
   "cell_type": "code",
   "execution_count": null,
   "metadata": {},
   "outputs": [],
   "source": [
    "t.shape"
   ]
  },
  {
   "cell_type": "code",
   "execution_count": null,
   "metadata": {},
   "outputs": [],
   "source": [
    "amp[1].shape"
   ]
  },
  {
   "cell_type": "code",
   "execution_count": null,
   "metadata": {
    "scrolled": true
   },
   "outputs": [],
   "source": [
    "plt.figure(figsize=(16,6))\n",
    "plt.subplot(121)\n",
    "# plt.subplot(221)\n",
    "\n",
    "for i in range(num_waveforms):\n",
    "    plt.plot(t[i], amp[i], '-k', alpha=.3, linewidth=1.5)\n",
    "    plt.hold\n",
    "    \n",
    "plt.plot(tmean, brown_model, '-b', linewidth = 1.5,label='Brown Model')\n",
    "plt.legend()\n",
    " \n",
    "label_axes(plt, 'Time [nanoseconds]', 'Recorded Power', 'Waveforms')\n",
    "plt.grid() # show grid lines\n",
    "\n",
    "plt.show()"
   ]
  },
  {
   "cell_type": "markdown",
   "metadata": {},
   "source": [
    "### Question: What is the altitude of the satellite in meters?"
   ]
  },
  {
   "cell_type": "markdown",
   "metadata": {},
   "source": [
    "to $r = \\frac{ct_0}{2}$\n",
    "\n",
    "\\begin{equation*}\n",
    "t_0 = 98  \\times  10^{-9} + 5.3 \\times 10^{-3} seconds\n",
    "\\end{equation*}\n",
    "\n",
    "\n",
    "\\begin{equation*}\n",
    "\\sigma = 5.6 \\times 10^{-9} seconds\n",
    "\\end{equation*}\n",
    "\n",
    "to $r = \\frac{ct_0}{2}$.\n",
    "\n",
    "And we get:\n",
    "\n",
    "**$r$ = $795$ km**\n",
    "\n",
    "(calculation below)"
   ]
  },
  {
   "cell_type": "code",
   "execution_count": null,
   "metadata": {},
   "outputs": [],
   "source": [
    "t_0 = t0 * 10**-9 + offset# convert from ns to s and add offset\n",
    "c = 3.0 * 10**8\n",
    "r = c*t_0 /2.0\n",
    "print r"
   ]
  },
  {
   "cell_type": "markdown",
   "metadata": {},
   "source": [
    "### Question: What is the standard deviation of the ocean wave height in meters?"
   ]
  },
  {
   "cell_type": "markdown",
   "metadata": {},
   "source": [
    "#$H_s = 2 \\sigma c$ "
   ]
  },
  {
   "cell_type": "markdown",
   "metadata": {},
   "source": [
    "# Exercise 2: Using Altimetry Data\n",
    "\n",
    "1. Download the two files *DONE*\n",
    "2. Answer questions related to Google Earth"
   ]
  },
  {
   "cell_type": "markdown",
   "metadata": {},
   "source": [
    "Notes from David's matlab file:\n",
    "<code>\n",
    "   fid = fopen('durmid.dat','r','l');\n",
    "   z=fread(fid,[4424,4001],'real*4');\n",
    "   nx=4424;\n",
    "   ny=4001;\n",
    "   </code>"
   ]
  },
  {
   "cell_type": "code",
   "execution_count": null,
   "metadata": {
    "scrolled": true
   },
   "outputs": [],
   "source": [
    "#<f signifies little-endian single-precision float\n",
    "# sadly, this took some time to figure out \n",
    "# durmid = np.fromfile('durmid.dat', dtype='<f')\n",
    "durmid = np.fromfile('durmid.dat', dtype='<i4')\n",
    "durmid1 = np.fromfile('durmid.dat', dtype='<u4')\n",
    "durmid.shape"
   ]
  },
  {
   "cell_type": "code",
   "execution_count": null,
   "metadata": {},
   "outputs": [],
   "source": [
    "# checking array size\n",
    "17700424 / 4424 == 4001"
   ]
  },
  {
   "cell_type": "code",
   "execution_count": null,
   "metadata": {
    "collapsed": true
   },
   "outputs": [],
   "source": [
    "# 2d version (reshaped)\n",
    "durmid_2d = durmid1.reshape(4424, 4001)"
   ]
  },
  {
   "cell_type": "code",
   "execution_count": null,
   "metadata": {},
   "outputs": [],
   "source": [
    "# mask invalid (nan values)\n",
    "z = np.ma.masked_invalid(durmid_2d)\n",
    "z[0]"
   ]
  },
  {
   "cell_type": "code",
   "execution_count": null,
   "metadata": {
    "collapsed": true
   },
   "outputs": [],
   "source": [
    "#np.loadtxt('durmid.dat') not working"
   ]
  },
  {
   "cell_type": "code",
   "execution_count": null,
   "metadata": {},
   "outputs": [],
   "source": [
    "# not needed\n",
    "# # find locations with nan. This is raising error when making histograms\n",
    "# np.argwhere(np.isnan(durmid))"
   ]
  },
  {
   "cell_type": "markdown",
   "metadata": {},
   "source": [
    "# Plot contour"
   ]
  },
  {
   "cell_type": "code",
   "execution_count": null,
   "metadata": {},
   "outputs": [],
   "source": [
    "from pylab import *\n",
    "from scipy.io import netcdf_file as netcdf\n",
    "data = netcdf('durmid.grd','r').variables['z'][::-1]\n",
    "#data.shape"
   ]
  },
  {
   "cell_type": "code",
   "execution_count": null,
   "metadata": {},
   "outputs": [],
   "source": [
    "# plot contour\n",
    "plt.figure(figsize=(12, 6))\n",
    "#plt.subplot(121)\n",
    "plt.contourf(data, 40, cmap=plt.cm.terrain)\n",
    "plt.grid()\n",
    "\n",
    "# add color bar\n",
    "cbar = plt.colorbar(orientation='vertical')\n",
    "cbar.set_label('Elevation (meters)')\n",
    "plt.show()"
   ]
  },
  {
   "cell_type": "code",
   "execution_count": null,
   "metadata": {},
   "outputs": [],
   "source": [
    "plt.figure(figsize=(12, 6))\n",
    "#plt.subplot(121)\n",
    "plt.contourf(data, 40, cmap=plt.cm.viridis_r)\n",
    "plt.grid()\n",
    "\n",
    "# add color bar\n",
    "cbar = plt.colorbar(orientation='vertical')\n",
    "cbar.set_label('Elevation (meters)')\n",
    "plt.show()"
   ]
  },
  {
   "cell_type": "markdown",
   "metadata": {},
   "source": [
    "# Plot histogram"
   ]
  },
  {
   "cell_type": "code",
   "execution_count": null,
   "metadata": {
    "collapsed": true
   },
   "outputs": [],
   "source": [
    "data_no_nan = data[~np.isnan(data)]\n",
    "hist_topo, bins = np.histogram(data_no_nan, 1200)"
   ]
  },
  {
   "cell_type": "code",
   "execution_count": null,
   "metadata": {},
   "outputs": [],
   "source": [
    "plt.bar(bins[:-1], hist_topo,  edgecolor='none', color='gray')\n",
    "\n",
    "plt.xlim([-100 ,0])\n",
    "# label_axes(plt, 'Elevation (meters)', 'Count', 'Elevation Histogram')\n",
    "plt.xlabel('Elevation (m)',  fontsize=14)\n",
    "plt.ylabel('Count', fontsize=14)\n",
    "\n",
    "plt.grid()\n",
    "plt.show()"
   ]
  },
  {
   "cell_type": "code",
   "execution_count": null,
   "metadata": {},
   "outputs": [],
   "source": [
    "# no longer necessary now that dtype is int..\n",
    "# # remove nan for histogram generation\n",
    "# durmid_no_nan = durmid[~np.isnan(durmid)]\n",
    "# hist_topo, bins = np.histogram(durmid_no_nan, 1200)\n"
   ]
  },
  {
   "cell_type": "markdown",
   "metadata": {},
   "source": [
    "### 2.3 Questions\n",
    "\n",
    "Q. Can you see the recessional terraces around Durmid Hill in the shaded altimetry? <br />\n",
    "\n",
    "Yes\n",
    "\n",
    "Q. Can you see them in the Google Earth imagery?<br />\n",
    "\n",
    "Yes"
   ]
  },
  {
   "cell_type": "markdown",
   "metadata": {},
   "source": [
    "### 2.4\n",
    "\n",
    "a) Load the topography data  *DONE*\n",
    "\n",
    "b) Look at it with MATLAB equivalent of $imagsc()$ *DONE*\n",
    "\n",
    "c) Look at a histogram with 1200 bins (first need to reshape the data into a single column as in Lab 6)  *DONE*\n"
   ]
  },
  {
   "cell_type": "markdown",
   "metadata": {
    "collapsed": true
   },
   "source": [
    "## Questions\n",
    "\n",
    "Q. Can you see regularly spaced peaks? \n",
    "\n",
    "Kind of. \n",
    "\n",
    "The elevation of these peaks corresponds to the elevation of the recessional terraces. \n",
    "\n",
    "Q. Why? \n",
    "\n",
    "Identify the elevation of several of these peaks. \n",
    "\n",
    "Elevations include: \n",
    "\n",
    "Q. What is the recession rate of Lake Cahuilla? (i.e., how fast did the waters recede?)\n",
    "\n",
    "Recession rate was around **2m / year** since the peaks are space around 2 meters apart. (median difference)"
   ]
  },
  {
   "cell_type": "code",
   "execution_count": null,
   "metadata": {
    "collapsed": true
   },
   "outputs": [],
   "source": []
  }
 ],
 "metadata": {
  "kernelspec": {
   "display_name": "Python 2",
   "language": "python",
   "name": "python2"
  },
  "language_info": {
   "codemirror_mode": {
    "name": "ipython",
    "version": 2
   },
   "file_extension": ".py",
   "mimetype": "text/x-python",
   "name": "python",
   "nbconvert_exporter": "python",
   "pygments_lexer": "ipython2",
   "version": "2.7.12"
  }
 },
 "nbformat": 4,
 "nbformat_minor": 2
}

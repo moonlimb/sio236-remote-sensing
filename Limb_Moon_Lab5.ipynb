{
 "cells": [
  {
   "cell_type": "code",
   "execution_count": null,
   "metadata": {
    "collapsed": true
   },
   "outputs": [],
   "source": [
    "from copy import deepcopy\n",
    "from decimal import Decimal\n",
    "import math\n",
    "import os\n",
    "\n",
    "from PIL import Image\n",
    "import cv2\n",
    "import matplotlib.image as mpimg\n",
    "import matplotlib.pyplot as plt\n",
    "import numpy as np\n",
    "import scipy"
   ]
  },
  {
   "cell_type": "markdown",
   "metadata": {},
   "source": [
    "# Progress\n",
    "\n",
    "1. Download files **<span style=\"color:black; background-color: yellow\">DONE</span>**.\n",
    "2. ir band: **<span style=\"color:black; background-color: yellow\">DONE</span>**..<br />\n",
    "    a) no contrast enhancement **DONE** <br />\n",
    "    b) linear stretch  **DONE**<br />\n",
    "    c) histogram equalization **DONE**\n",
    "    \n",
    "    What do you see in ocean areas?\n",
    "    Compare two histogram images\n",
    "    \n",
    "3. Use appropriate bands and contrast enhancement to make natural looking RGB image **<span style=\"color:black; background-color: yellow\">DONE</span>**.<br />\n",
    "    Why does image look blue without hist equalization?<br /> **DONE**\n",
    "    Combine processed RGB images into single img using `cat` command, and plot them with `imshow()`\n",
    "    \n",
    "4. band1: **<span style=\"color:black; background-color: yellow\">DONE</span>**.<br />\n",
    "    a) image smoothing **DONE**<br />\n",
    "    b) image sharpening  **DONE**<br />\n",
    "    c) southwest illumianation (Sobel) grayscale  **DONE**<br />\n",
    "    \n",
    "5. Vegetation index **<span style=\"color:black; background-color: yellow\">DONE</span>**.\n",
    "\n",
    "6. EC: For extra credit, follow the methods in Rees (374-380) to decompose the 7 bands into their principal com- ponents. **<span style=\"color:aqua; background-color: black\">Shelved for later</span>**"
   ]
  },
  {
   "cell_type": "markdown",
   "metadata": {
    "collapsed": true
   },
   "source": [
    "# Exercise 1\n",
    "\n",
    "Download individual files for the 7 bands of a Landsat image of San Diego, acquired in August 1990 (*.raw files). DONE\n",
    "\n",
    "\n",
    "\n",
    "The spectral range and other file characteristics are provided in the NLAPS header file (See Appendix A of image processing notes.) Here is a summary of the spectral bands.\n",
    "\n",
    "|band #|min (μm)   |center (μm)| color       | \n",
    "|------|-----------|-----------|-------------|\n",
    "|  1   |  0.45     |   0.485   |  Blue-Green | \n",
    "|  2   |  0.52     |    0.56   |  Green      | \n",
    "|  3   |  0.63     |    0.66   |  Red        | \n",
    "|  4   |  0.76     |    0.83   |  Near-IR    | \n",
    "|  5   |  1.55     |    1.65   |  Mid-IR     | \n",
    "|  6   |  10.40    |    11.45  |  Thermal-IR | \n",
    "|  7   |  2.08     |    2.255  |  Mid-IR     | \n",
    "\n",
    "#### <center>Table 2.1: Landsat Spectral Bands"
   ]
  },
  {
   "cell_type": "markdown",
   "metadata": {},
   "source": [
    "> “Landsat is the longest running Earth observation satellite system we have, and free access to this data enables researchers to look at the effects of seasonality, climate cycles, and long-term trends in land-use change.”\n",
    "— Danica Schaffer-Smith, doctoral student, Nicholas School of the Environment, Duke University, Duke Today,\n",
    "Mar 27, 2017"
   ]
  },
  {
   "cell_type": "markdown",
   "metadata": {},
   "source": [
    "# Exercise 2\n",
    "Display the thermal infrared band three ways: \n",
    "\n",
    "a) no contrast enhancement;\n",
    "    original image\n",
    "\n",
    "b) linear stretch; \n",
    "    linear strech is a special case of contrast modifiction in which transfer function mapping the original pixel range to new range is a constant gradient (i.e. scalar/number)\n",
    "    effect: expand the range of pixel values\n",
    "    \n",
    "c) histogram equalization. \n",
    "\n",
    "Display results as grayscale. \n",
    "\n",
    "### Q: What do you see in the ocean areas? \n",
    "\n",
    "ANS. There are some dark areas in the ocean, indicating possibly suspended materials or biological organisms in the ocean. Given that infrared light does not penetrat deep into the ocean beyond the mixed layer (~200m), another guess is surface waves.\n",
    "\n",
    "Compare the original image histogram with the equalized image histogram (use imhist() to display histograms). **DONE**"
   ]
  },
  {
   "cell_type": "code",
   "execution_count": null,
   "metadata": {
    "collapsed": true,
    "scrolled": false
   },
   "outputs": [],
   "source": [
    "# check raw files are in landsat_data directory\n",
    "# os.listdir(\"./landsat_data\")"
   ]
  },
  {
   "cell_type": "markdown",
   "metadata": {},
   "source": [
    "### Read all the 7 bands"
   ]
  },
  {
   "cell_type": "code",
   "execution_count": null,
   "metadata": {
    "collapsed": true
   },
   "outputs": [],
   "source": [
    "\"\"\"\n",
    "Adopted from the matlab version given in lab5start.m\n",
    "# ir = fread( fopen( 'band6c.raw', 'r'), [1500 1500], '*uint8')';\n",
    "\n",
    "-> read the binary files (*.raw)\n",
    "-> reshape to 1500 by 1500 2D-array (given)\n",
    "-> dtype is unsigned integer \n",
    "\"\"\"\n",
    "b1 = np.reshape(np.fromfile('./landsat_data/band1c.raw', dtype='uint8'), (1500, 1500))\n",
    "b2 = np.reshape(np.fromfile('./landsat_data/band2c.raw', dtype='uint8'), (1500, 1500))\n",
    "b3 = np.reshape(np.fromfile('./landsat_data/band3c.raw', dtype='uint8'), (1500, 1500))\n",
    "b4 = np.reshape(np.fromfile('./landsat_data/band4c.raw', dtype='uint8'), (1500, 1500))\n",
    "b5 = np.reshape(np.fromfile('./landsat_data/band5c.raw', dtype='uint8'), (1500, 1500))\n",
    "b6 = np.reshape(np.fromfile('./landsat_data/band6c.raw', dtype='uint8'), (1500, 1500))\n",
    "b7 = np.reshape(np.fromfile('./landsat_data/band7c.raw', dtype='uint8'), (1500, 1500))"
   ]
  },
  {
   "cell_type": "code",
   "execution_count": null,
   "metadata": {
    "collapsed": true
   },
   "outputs": [],
   "source": [
    "# band 6 is the thermal infrared\n",
    "# create deepcopy of band 6 to use same variable name,'ir', as \n",
    "# Professor Sandwell's matlab example\n",
    "ir = deepcopy(b6)"
   ]
  },
  {
   "cell_type": "code",
   "execution_count": null,
   "metadata": {
    "collapsed": true
   },
   "outputs": [],
   "source": [
    "def plot_band_graysc(_plt, subplot_num, _data, title):\n",
    "    \"\"\" Plot the given band (data) in grayscale\n",
    "    \n",
    "    subplot_num (int): desginate the subplot location\n",
    "    data (numpy array)\n",
    "    title (string): plot title\n",
    "    \"\"\"\n",
    "    _plt.subplot(subplot_num)\n",
    "    _plt.imshow(_data, cmap=plt.cm.gray)\n",
    "    _plt.title(title, fontsize=16) "
   ]
  },
  {
   "cell_type": "markdown",
   "metadata": {},
   "source": [
    "## 2b) Linear Stretch\n",
    "\n",
    "Find minimum and maximum pixel in the given data (*data6*) and map the orignal range to use\n",
    "a full pixel spectrum. This will increase used pixel range and image contrast.\n",
    "\n",
    "original pixel range: $[min_{orig}, min_{orig}]$ <br />\n",
    "new (full) pixel range: $[min_{new}, max_{new}]$, usually [0, 255]\n",
    "\n",
    "\n",
    "### Eqn 2b. Linear Stretch Equation \n",
    "\\begin{equation*}\n",
    "pixel_{out} = (pixel_{in} - min_{orig}) \\frac{max_{new} - min_{new}}{max_{orig} - min_{orig}} + min_{new}\n",
    "\\end{equation*}\n",
    "\n",
    "Reference: http://homepages.inf.ed.ac.uk/rbf/HIPR2/stretch.htm\n"
   ]
  },
  {
   "cell_type": "code",
   "execution_count": null,
   "metadata": {
    "collapsed": true
   },
   "outputs": [],
   "source": [
    "def transform_linear_stretch(data):\n",
    "    \"\"\"\n",
    "    data [String] data is original numpy array of pixels\n",
    "    \n",
    "    Return: output is modified, linearly streched data according to Eqn 2b.\n",
    "    \"\"\"\n",
    "    min_orig = np.amin(data) # Minimum of the flattened array (original)\n",
    "    max_orig = np.amax(data) # Maximum of the flattened array (original)\n",
    "    min_new = 0.0\n",
    "    max_new = 255.0\n",
    "    \n",
    "    # define linear stretch transformation function\n",
    "    linear_stretcher = lambda pixel_orig: ((pixel_orig - min_orig)*(\n",
    "        (max_new - min_new) / (max_orig - min_orig))) + min_new\n",
    "    \n",
    "    # Reference: http://stackoverflow.com/questions/35215161/most-efficient-way-to-map-function-over-numpy-array\n",
    "    v_linear_stretcher = np.vectorize(linear_stretcher) # vectorizing\n",
    "    return v_linear_stretcher(data)"
   ]
  },
  {
   "cell_type": "code",
   "execution_count": null,
   "metadata": {
    "collapsed": true
   },
   "outputs": [],
   "source": [
    "# linearly stretched version\n",
    "ir_lin_stretch = transform_linear_stretch(ir)"
   ]
  },
  {
   "cell_type": "code",
   "execution_count": null,
   "metadata": {
    "collapsed": true
   },
   "outputs": [],
   "source": [
    "#print np.amax(ir_lin_stretch)\n",
    "#print np.amin(ir_lin_stretch)"
   ]
  },
  {
   "cell_type": "code",
   "execution_count": null,
   "metadata": {
    "collapsed": true
   },
   "outputs": [],
   "source": [
    "#print np.amax(ir)\n",
    "#print np.amin(ir)"
   ]
  },
  {
   "cell_type": "markdown",
   "metadata": {
    "collapsed": true
   },
   "source": [
    "## 2c) Histogram Equalization\n",
    "\n",
    "\n"
   ]
  },
  {
   "cell_type": "code",
   "execution_count": null,
   "metadata": {},
   "outputs": [],
   "source": [
    "# b) linear stretch\n",
    "plt.figure(figsize=(16, 10))\n",
    "\n",
    "# a) no contrast enhancement\n",
    "plot_band_graysc(plt, 131, ir, 'Infrared Band (Original)')\n",
    "\n",
    "# b) linear stretch\n",
    "plot_band_graysc(plt, 132, ir_lin_stretch.astype('uint8'), 'Infrared Band (Linear Stretch)')\n",
    "\n",
    "# c) historgram equalization\n",
    "ir_hist_equalized = cv2.equalizeHist(ir)\n",
    "plot_band_graysc(plt, 133, ir_hist_equalized, 'Infrared Band (Histogram Equalization)')\n",
    "\n",
    "plt.show()"
   ]
  },
  {
   "cell_type": "code",
   "execution_count": null,
   "metadata": {},
   "outputs": [],
   "source": [
    "def plot_hist(_plt, _subplot_num, _data, hist_type, title='Histogram'):\n",
    "    \"\"\"\n",
    "    _plt [matplotlib.pyplot]\n",
    "    _data [2D Numpy array] input data\n",
    "    \n",
    "    Reference code: *StackOverFlow link here*\n",
    "    \"\"\"\n",
    "    flattened_data = _data.flatten()\n",
    "    hist, bins = np.histogram(flattened_data, 256, [0, 255])\n",
    "\n",
    "    # cumulative distribution function\n",
    "    cdf = hist.cumsum()\n",
    "    cdf_normalized = cdf * hist.max() / cdf.max()\n",
    "\n",
    "    plt.subplot(_subplot_num)\n",
    "    plt.plot(cdf_normalized, color='darkorange', linestyle='--')\n",
    "    plt.hist(flattened_data, 256, [0, 255], color='darkblue')\n",
    "    plt.xlim([0, 255])\n",
    "    plt.xlabel('Pixel [0, 255]')\n",
    "    plt.ylabel('Count')\n",
    "    plt.title('{0} ({1})'.format(title, hist_type))\n",
    "    plt.legend(('cdf','histogram ' + hist_type), loc='upper left')\n",
    "\n",
    "plt.figure(figsize=(15, 8))\n",
    "plot_hist(plt, 121, ir, 'original')\n",
    "plot_hist(plt, 122, ir_hist_equalized, 'equalized')\n",
    "plt.show()"
   ]
  },
  {
   "cell_type": "markdown",
   "metadata": {},
   "source": [
    ">“Nothing is harder to image than the past. It is imperative that all Landsat observations are archived and made available to users.”\n",
    "— Wulder et al., 2015, The global Landsat archive: Status, consolidation, and direction,\n",
    "Aug 23, 2016"
   ]
  },
  {
   "cell_type": "markdown",
   "metadata": {},
   "source": [
    "## Exercise 3:\n",
    "\n",
    "1. Use appropriate bands and contrast enhancement to make natural looking RGB image **DONE**<br />\n",
    "    a) bands 1 to 3<br />\n",
    "    b) histogram equalization<br />\n",
    "\n",
    "2. Why does image look blue without hist equalization?<br />\n",
    "\n",
    "Landsat instruments can detect infrared and visible wavelengths. Landsat is a passive sensor that uses Sun's radiation as the radiation source (i.e. does not emit its own). It 'primarily detects' longwave radiation reflected from the surface of the Earth, the portion of the incident solar radiation that is not absorbed by the Earth's surface. It is possible that the original image looks blue/purple due to scattering of blue light in the atmosphere. (We see what is reflected).\n",
    "\n",
    "Reference:\n",
    "https://landsat.gsfc.nasa.gov/wp-content/uploads/2014/09/Landsat_MoreThanPrettyPicture.pdf\n",
    "\n",
    "\n",
    "3. Combine processed RGB images into single img and plot them **DONE**\n",
    "\n",
    "Notes:<br />\n",
    "* Blue (b1)\n",
    "* Green (b2)\n",
    "* Red (b3)"
   ]
  },
  {
   "cell_type": "code",
   "execution_count": null,
   "metadata": {
    "collapsed": true
   },
   "outputs": [],
   "source": [
    "r = b3\n",
    "g = b2\n",
    "b = b1\n",
    "recovered_img = Image.fromarray(np.stack([r, g, b], axis=2), mode='RGB')\n",
    "recovered_img.save(\"san_diego_rgb.jpg\")\n",
    "\n",
    "# Equalizing histogram of each band\n",
    "blue_eq = cv2.equalizeHist(b)\n",
    "red_eq = cv2.equalizeHist(r)\n",
    "green_eq = cv2.equalizeHist(g)\n",
    "\n",
    "# Combine the equalized bands to form an RGB image\n",
    "equalized_img = Image.fromarray(np.stack([red_eq, green_eq, blue_eq], axis=2), mode='RGB')\n",
    "equalized_img.save('san_diego_hist_eq_rgb.jpg')"
   ]
  },
  {
   "cell_type": "code",
   "execution_count": null,
   "metadata": {
    "collapsed": true
   },
   "outputs": [],
   "source": [
    "def plot_hist(_plt, _subplot_num, _data, hist_type, title='Histogram'):\n",
    "    \"\"\"\n",
    "    _plt [matplotlib.pyplot]\n",
    "    _data [2D Numpy array] input data\n",
    "    \"\"\"\n",
    "    flattened_data = _data.flatten()\n",
    "    hist, bins = np.histogram(flattened_data, 256, [0, 255])\n",
    "\n",
    "    # cumulative distribution function\n",
    "    cdf = hist.cumsum()\n",
    "    cdf_normalized = cdf * hist.max() / cdf.max()\n",
    "\n",
    "    plt.subplot(_subplot_num)\n",
    "    plt.plot(cdf_normalized, color='b')\n",
    "    plt.hist(flattened_data, 256, [0, 255], color='darkorange')\n",
    "    plt.xlim([0, 255])\n",
    "    plt.xlabel('Pixel [0, 255]')\n",
    "    plt.ylabel('Count')\n",
    "    plt.title('{0} ({1})'.format(title, hist_type))\n",
    "    plt.legend(('cdf','histogram ' + hist_type), loc = 'upper left')"
   ]
  },
  {
   "cell_type": "code",
   "execution_count": null,
   "metadata": {
    "scrolled": false
   },
   "outputs": [],
   "source": [
    "merged_img = cv2.merge([r, g, b])\n",
    "\n",
    "def plot_img(_plt, subplot_num, _data, title):\n",
    "    _plt.subplot(subplot_num)\n",
    "    _plt.title(title, fontsize=16)\n",
    "    _plt.imshow(_data)\n",
    "    \n",
    "plt.figure(figsize=(16,8))\n",
    "plot_img(plt, 121, merged_img, 'Original RGB Image')\n",
    "\n",
    "# very cool\n",
    "plot_img(plt, 122, equalized_img, 'Equalized RGB Image')\n",
    "plt.show()"
   ]
  },
  {
   "cell_type": "code",
   "execution_count": null,
   "metadata": {
    "collapsed": true
   },
   "outputs": [],
   "source": [
    "#plot RGB and equalized RGB bands\n",
    "def plot_hist2(_plt, _subplot_num, _data, hist_type, title='Histogram', color_type='green'):\n",
    "    \"\"\"\n",
    "    _plt [matplotlib.pyplot]\n",
    "    _data [2D Numpy array] input data\n",
    "    \"\"\"\n",
    "    flattened_data = _data.flatten()\n",
    "    hist, bins = np.histogram(flattened_data, 256, [0, 255])\n",
    "\n",
    "    # cumulative distribution function\n",
    "    cdf = hist.cumsum()\n",
    "    cdf_normalized = cdf * hist.max() / cdf.max()\n",
    "\n",
    "    plt.subplot(_subplot_num)\n",
    "    plt.plot(cdf_normalized, color='black', linestyle='--')\n",
    "    \n",
    "    hist = plt.hist(flattened_data, 256, [0, 255], color=color_type, rwidth=0.9)\n",
    "    plt.xlim([0, 255])\n",
    "    plt.ylim([0, 500000])\n",
    "    \n",
    "    plt.xlabel('Pixel [0, 255]')\n",
    "    plt.ylabel('Count')\n",
    "    plt.title('{0} ({1})'.format(title, hist_type))\n",
    "    \n",
    "    plt.legend(('cdf','histogram ' + hist_type), loc='upper left')"
   ]
  },
  {
   "cell_type": "code",
   "execution_count": null,
   "metadata": {},
   "outputs": [],
   "source": [
    "plt.figure(figsize=(16, 7))\n",
    "#red\n",
    "plot_hist2(plt, 231, r, 'original', 'Red', 'darkred')\n",
    "plot_hist2(plt, 234, red_eq, 'equalized', 'Red', 'darkred')\n",
    "\n",
    "#green\n",
    "plot_hist2(plt, 232, g, 'original', 'Green', 'darkgreen')\n",
    "plot_hist2(plt, 235, green_eq, 'equalized', 'Green', 'darkgreen')\n",
    "\n",
    "#blue\n",
    "plot_hist2(plt, 233, b, 'original', 'Blue', 'dodgerblue')\n",
    "plot_hist2(plt, 236, blue_eq, 'equalized', 'Blue', 'dodgerblue')\n",
    "plt.show()\n",
    "\n",
    "# Exercise 5 will make plotting multiple figures cleaner by remove unnecessary/overlapping axes\n",
    "# but leaving these as is"
   ]
  },
  {
   "cell_type": "code",
   "execution_count": null,
   "metadata": {},
   "outputs": [],
   "source": [
    "# Plot histograms on the same figure\n",
    "\n",
    "plt.figure(figsize=(14, 10))\n",
    "#red\n",
    "plot_hist2(plt, 211, r, 'original', 'Red', 'darkred')\n",
    "plot_hist2(plt, 212, red_eq, 'equalized', 'Red', 'darkred')\n",
    "\n",
    "#green\n",
    "#plot_hist2(plt, 211, g, 'original', 'Green', 'darkgreen')\n",
    "plot_hist2(plt, 212, green_eq, 'equalized', 'Green', 'darkgreen')\n",
    "\n",
    "#blue\n",
    "plot_hist2(plt, 211, b, r, g, 'original', 'Blue', 'dodgerblue')\n",
    "plot_hist2(plt, 212, blue_eq, 'equalized', 'Blue', 'dodgerblue')\n",
    "plt.title('Combined')\n",
    "plt.show()"
   ]
  },
  {
   "cell_type": "markdown",
   "metadata": {},
   "source": [
    ">“Satellite data is revolutionizing the way we map the world and the way we understand the natural and anthropogenic processes acting on Earth.”\n",
    "— Rory Quinn, marine geoscientist, maritime archaeologist, and Landsat data user, Satellite imagery enhances coastal hydrography, geodatapoint,\n",
    "Jul 18, 2016"
   ]
  },
  {
   "cell_type": "markdown",
   "metadata": {},
   "source": [
    "## Exercise 4: \n",
    "Image enchancement through filtering<br />\n",
    "\n",
    "1. Load and show the original image **DONE**\n",
    "2. Apply a smoothing filter **DONE**\n",
    "3. Apply a sharpening filter  **DONE**\n",
    "4. Illuminate from the southwest **DONE**"
   ]
  },
  {
   "cell_type": "code",
   "execution_count": null,
   "metadata": {
    "scrolled": false
   },
   "outputs": [],
   "source": [
    "#plot_band_graysc(_plt, subplot_num, _data, title):\n",
    "import scipy.signal\n",
    "\n",
    "def apply_smoothing_filter(_data):\n",
    "    kernel = np.array([[1./9, 1./9, 1./9],[1./9, 1./9, 1./9],[1./9, 1./9, 1./9]])\n",
    "    # Note: kernel should sum to 1\n",
    "\n",
    "    # convolve 2d the kernel \n",
    "    smoothed = scipy.signal.convolve2d(_data, kernel, mode='same')\n",
    "    return smoothed.astype(np.uint8)\n",
    "\n",
    "def apply_sharpening_filter(_data):\n",
    "    # make a sharpening filter using the kernel used to make a smoothing filter\n",
    "    \n",
    "    def _get_identity_operator(dim):\n",
    "        m = np.zeros((dim, dim))\n",
    "        m[m.shape[0]/2, m.shape[0]/2] = 1\n",
    "        return m\n",
    "\n",
    "    ii = _get_identity_operator(3)\n",
    "    kernel = np.array([[1./9, 1./9, 1./9],[1./9, 1./9, 1./9],[1./9, 1./9, 1./9]])\n",
    "   \n",
    "    # p.285 in Rees 2nd Edition\n",
    "    k=3\n",
    "    new_kernel = k*ii + (1-k)*kernel\n",
    "    #print new_kernel #looks fine\n",
    "    sharpened = scipy.signal.convolve2d(_data, new_kernel, mode='same')\n",
    "    return sharpened.astype(np.uint8)\n",
    "\n",
    "def apply_sobel_filter_sw(_data):\n",
    "    # illuminate from the southwest\n",
    "    sobel_sw_kernel = np.array([[0, 1., 2.],[-1., 0, 1.],[-2., -1., 0]])\n",
    "    illuminated = scipy.signal.convolve2d(_data, sobel_sw_kernel, mode='same')\n",
    "    return illuminated.astype(np.uint8)\n",
    " \n",
    "# blue band\n",
    "bb = b1.astype(float)\n",
    "\n",
    "plt.figure(figsize=(16,14))\n",
    "plot_band_graysc(plt, 221, bb, 'Original Image (Blue Band)')\n",
    "plot_band_graysc(plt, 222, apply_smoothing_filter(bb), 'Smoothed Image (Blue Band)')\n",
    "plot_band_graysc(plt, 223, apply_sharpening_filter(bb), 'Sharpened Image (Blue Band)')\n",
    "plot_band_graysc(plt, 224, apply_sobel_filter_sw(bb), 'South West (Blue Band)')\n",
    "plt.show()"
   ]
  },
  {
   "cell_type": "markdown",
   "metadata": {
    "collapsed": true
   },
   "source": [
    ">“Landsat has undoubtedly transformed our ability to understand urbanization processes and how cities expand and evolve… the multi-spectrality of Landsat, its relatively high spatial resolution, its revisit period, and especially the long observational record that made millions of scenes publicly available, make Landsat a key asset for the research community.”\n",
    "— Ran Goldblatt, Big Pixel Initiative of the UC San Diego’s School, A Map for Preserving a Sustainable Society,\n",
    "Dec 16, 2016"
   ]
  },
  {
   "cell_type": "code",
   "execution_count": null,
   "metadata": {
    "collapsed": true
   },
   "outputs": [],
   "source": []
  }
 ],
 "metadata": {
  "kernelspec": {
   "display_name": "Python 2",
   "language": "python",
   "name": "python2"
  },
  "language_info": {
   "codemirror_mode": {
    "name": "ipython",
    "version": 2
   },
   "file_extension": ".py",
   "mimetype": "text/x-python",
   "name": "python",
   "nbconvert_exporter": "python",
   "pygments_lexer": "ipython2",
   "version": "2.7.12"
  }
 },
 "nbformat": 4,
 "nbformat_minor": 2
}

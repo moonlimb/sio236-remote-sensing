{
 "cells": [
  {
   "cell_type": "markdown",
   "metadata": {},
   "source": [
    "# Problem2.1\n",
    "\n",
    "1. Create a 'Placemark' for two places (one I visited, one I want to visit) DONE\n",
    "\n",
    "Reference for self: short keys link https://www.dataquest.io/blog/jupyter-notebook-tips-tricks-shortcuts/"
   ]
  },
  {
   "cell_type": "markdown",
   "metadata": {},
   "source": [
    "# Problem2.2\n",
    "\n",
    "1. Download 7 files \n",
    "\n",
    "phase_ll.tif \n",
    "-> interferogram made by differencing two scenes from an active-source microwave swath altimeter\n",
    "-> shows ground motions across the southern San andreas Fault\n",
    "-> Import the image into Google Earth DONE\n",
    "-> Position phase_ll.tif correctly using the NSEW edges from ReadmeLab4 file\n",
    "\n",
    "Tif edge coordinates from ReadmeLab4:\n",
    "\n",
    "phase_ll.tif<br />\n",
    "   north  34.4 <br />\n",
    "   south  32.35<br />\n",
    "   east  -115<br />\n",
    "   west  -116.7<br />\n",
    "   \n",
    "-> Adjust the transparency to see both teh interferogram and the Google Earth imagery. Do they line up? <br /> YES \n",
    "Are all the roads and farms in the right place? <br /> I think so. Hard tell how the interferogram relates to the farms and roads.\n",
    "\n",
    "If not, adjust the location of the image in the *Properties* window"
   ]
  },
  {
   "cell_type": "markdown",
   "metadata": {},
   "source": [
    "# Problem 2.3\n",
    "1. Import the four SAF01 * images. DONE\n",
    "\n",
    "This is a section of high-resolution altimetry data along the San Andreas Fault. \n",
    "\n",
    "Can you see the fault in the altimetry? I find it pretty hard to tell.<br />\n",
    "In the interferogram? It's slightly tricky, but YES. The fault seems to expand near the Salton Sea.<br />\n",
    "\n",
    "In the Google Earth imagery? YES\n",
    "\n",
    "2. Open the Painted Canyon kmz file. DONE\n",
    "\n",
    "These are benchmarks whose locations are regularly measured using GPS. \n",
    "\n",
    "Can you see where they cross the fault? YES! Hm looking at it again, not 100% sure.\n",
    "\n",
    "Remember, Google Earth is most useful for looking at multiple data sets in context."
   ]
  }
 ],
 "metadata": {
  "kernelspec": {
   "display_name": "Python 2",
   "language": "python",
   "name": "python2"
  },
  "language_info": {
   "codemirror_mode": {
    "name": "ipython",
    "version": 2
   },
   "file_extension": ".py",
   "mimetype": "text/x-python",
   "name": "python",
   "nbconvert_exporter": "python",
   "pygments_lexer": "ipython2",
   "version": "2.7.12"
  }
 },
 "nbformat": 4,
 "nbformat_minor": 2
}

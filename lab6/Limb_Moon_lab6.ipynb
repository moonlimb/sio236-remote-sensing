{
 "cells": [
  {
   "cell_type": "markdown",
   "metadata": {},
   "source": [
    "# Lab 6: Image Classification\n",
    "\n",
    "SIO 236<br />\n",
    "Moon Limb"
   ]
  },
  {
   "cell_type": "markdown",
   "metadata": {},
   "source": [
    "Background (Copied directly from the lab):\n",
    "\n",
    "This section uses a composite image of Wilkins Sound in the Antarctic Peninsula made from the first seven spectral bands of data collected by MODIS (which stands for Moderate Resolution Imaging Spectrora- diometer). The data for these bands are available at http://topex.ucsd.edu/rs/lab6/modis/, with the n-th MODIS band having the file name modisn.dat (e.g., calibrated radiances from MODIS band 1 are stored in modis1.dat). The files in this folder have been saved in ASCII format, and are a subset of a MODIS swath acquired on March 6, 2008 from the Terra satellite at 14:05 UTC. The nominal resolution is 500 m per image pixel. For further information about MODIS satellite data, you may read more at: https://lpdaac.usgs.gov/products/modis_overview\n",
    "The seven MODIS bands that have been provided correspond to the following spectral ranges and applica- tions:\n",
    "\n",
    "Download all the files for the individual bands and save them in the same directory as your m-file. There is also a file there called lab6start modis.m which provides some skeleton code that will help with accom- plishing the exercises.\n",
    "This particular image was chosen because it depicts an episode of the disintegration of the Wilkins Ice Shelf in March 2008. A team led by researchers at the National Snow and Ice Data Center and the Scripps Institution of Oceanography wrote a journal article [1] detailing how this event was observed through remote sensing, which may be accessed at http://dx.doi.org/10.1016/j.epsl.2008.12.027."
   ]
  },
  {
   "cell_type": "markdown",
   "metadata": {},
   "source": [
    "## Image of Wilkins Sound MODIS (Scambos et al. 2009)"
   ]
  },
  {
   "cell_type": "code",
   "execution_count": null,
   "metadata": {
    "collapsed": true
   },
   "outputs": [],
   "source": []
  },
  {
   "cell_type": "markdown",
   "metadata": {},
   "source": [
    "# 2.1 Exercise 1\n",
    "\n",
    "1. Read all 7 bands of the Wilkins Sound MODIS image\n",
    "2. Display all 7 bands individually\n",
    "3. Display an RGB image \n",
    "\n",
    "NOTE: RGB image will be used to identify pixels for the training set"
   ]
  },
  {
   "cell_type": "markdown",
   "metadata": {},
   "source": [
    "# 2.2 Exercise 2\n",
    "\n",
    "Prep data:\n",
    "\n",
    "1. Decide: How many groups/classes to sort image into (ex. sea ice, open ocean, clouds, etc.)\n",
    "2. Create a 3-column matrix (`tpix`) containing the a) row, b) column, and c) group number of each training pixel\n",
    "3. Idetify: at least 2 training pixels per group\n",
    "4. Create a 7-col matrix (`train`) continaing each of the 7 band-values for every pixel identified in `tpix`\n",
    "\n",
    "More steps:\n",
    "\n",
    "1. a) Reshape the image data into a vector with 7 columns (corresponding to 7 band values) and `nx x ny` rows<br />\n",
    "Note: given MODIS image has `nx = ny = 400`. therefore, `AllPIX` will have 7 columns and 160, 000 rows <br />\n",
    "b) Convert data type to double from uint8 (applies to `Allpix`, `train` and `group`)<br />\n",
    "\n",
    "2. Use equivalent of MATLAB's `classify` function \n",
    "\n",
    "Note: may take around a min to run\n",
    "\n",
    "MATLAB command: \n",
    "```MATLAB\n",
    "[class, err, misfit] = classify(AllPix, train, group)\n",
    "```\n",
    "where\n",
    "\n",
    "    `Allpix` is matrix of 7 band values for each pixel across the image<br />\n",
    "    `train` is the trainng set<br />\n",
    "    `group`  is the group each training pixel belongs too<br />\n",
    "    `class` is a vector telling which group each pixel belongs to<br />\n",
    "    `err` is dummy varaible that can be ignored<br />\n",
    "    `misfit` is a matrix telling how well each pixel fits into each group, 0=doesn't fit 1= perfect fit<br />\n",
    "    \n",
    "   "
   ]
  },
  {
   "cell_type": "markdown",
   "metadata": {},
   "source": [
    "## Exercise 2.3\n",
    "\n",
    "Reshape class and misfit back into matrices `nx x ny`\n"
   ]
  }
 ],
 "metadata": {
  "kernelspec": {
   "display_name": "Python 2",
   "language": "python",
   "name": "python2"
  },
  "language_info": {
   "codemirror_mode": {
    "name": "ipython",
    "version": 2
   },
   "file_extension": ".py",
   "mimetype": "text/x-python",
   "name": "python",
   "nbconvert_exporter": "python",
   "pygments_lexer": "ipython2",
   "version": "2.7.12"
  }
 },
 "nbformat": 4,
 "nbformat_minor": 2
}
